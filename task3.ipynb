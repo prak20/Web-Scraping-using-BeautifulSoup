{
 "cells": [
  {
   "cell_type": "markdown",
   "metadata": {},
   "source": [
    "# Search for elements with given classes and attributes\n"
   ]
  },
  {
   "cell_type": "code",
   "execution_count": 1,
   "metadata": {},
   "outputs": [],
   "source": [
    "import requests as req\n",
    "from bs4 import BeautifulSoup"
   ]
  },
  {
   "cell_type": "code",
   "execution_count": 2,
   "metadata": {},
   "outputs": [],
   "source": [
    "URL = 'https://en.wikipedia.org/wiki/Ariquemes'\n",
    "r = req.get(URL)\n",
    "soup = BeautifulSoup(r.content)"
   ]
  },
  {
   "cell_type": "code",
   "execution_count": 3,
   "metadata": {},
   "outputs": [
    {
     "name": "stdout",
     "output_type": "stream",
     "text": [
      "193\n"
     ]
    }
   ],
   "source": [
    "links=soup.find_all(\"a\")\n",
    "print(len(links))"
   ]
  },
  {
   "cell_type": "code",
   "execution_count": 4,
   "metadata": {},
   "outputs": [
    {
     "data": {
      "text/plain": [
       "[<a id=\"top\"></a>,\n",
       " <a class=\"mw-jump-link\" href=\"#mw-head\">Jump to navigation</a>,\n",
       " <a class=\"mw-jump-link\" href=\"#searchInput\">Jump to search</a>,\n",
       " <a class=\"image\" href=\"/wiki/File:Ariquemes_bandeira.jpg\" title=\"Flag of Ariquemes\"><img alt=\"Flag of Ariquemes\" class=\"thumbborder\" data-file-height=\"484\" data-file-width=\"684\" decoding=\"async\" height=\"71\" src=\"//upload.wikimedia.org/wikipedia/commons/thumb/c/c0/Ariquemes_bandeira.jpg/100px-Ariquemes_bandeira.jpg\" srcset=\"//upload.wikimedia.org/wikipedia/commons/thumb/c/c0/Ariquemes_bandeira.jpg/150px-Ariquemes_bandeira.jpg 1.5x, //upload.wikimedia.org/wikipedia/commons/thumb/c/c0/Ariquemes_bandeira.jpg/200px-Ariquemes_bandeira.jpg 2x\" width=\"100\"/></a>,\n",
       " <a class=\"image\" href=\"/wiki/File:Seal_of_Ariquemes.jpg\" title=\"Official seal of Ariquemes\"><img alt=\"Official seal of Ariquemes\" data-file-height=\"836\" data-file-width=\"716\" decoding=\"async\" height=\"117\" src=\"//upload.wikimedia.org/wikipedia/commons/thumb/1/1f/Seal_of_Ariquemes.jpg/100px-Seal_of_Ariquemes.jpg\" srcset=\"//upload.wikimedia.org/wikipedia/commons/thumb/1/1f/Seal_of_Ariquemes.jpg/150px-Seal_of_Ariquemes.jpg 1.5x, //upload.wikimedia.org/wikipedia/commons/thumb/1/1f/Seal_of_Ariquemes.jpg/200px-Seal_of_Ariquemes.jpg 2x\" width=\"100\"/></a>]"
      ]
     },
     "execution_count": 4,
     "metadata": {},
     "output_type": "execute_result"
    }
   ],
   "source": [
    "links[0:5]"
   ]
  },
  {
   "cell_type": "code",
   "execution_count": 5,
   "metadata": {},
   "outputs": [
    {
     "data": {
      "text/plain": [
       "[<a class=\"mw-jump-link\" href=\"#mw-head\">Jump to navigation</a>,\n",
       " <a class=\"mw-jump-link\" href=\"#searchInput\">Jump to search</a>]"
      ]
     },
     "execution_count": 5,
     "metadata": {},
     "output_type": "execute_result"
    }
   ],
   "source": [
    "attr_filter={\"class\":\"mw-jump-link\"}\n",
    "soup.find_all(\"a\",attr_filter)"
   ]
  },
  {
   "cell_type": "code",
   "execution_count": 6,
   "metadata": {},
   "outputs": [
    {
     "data": {
      "text/plain": [
       "[<a class=\"mw-jump-link\" href=\"#mw-head\">Jump to navigation</a>]"
      ]
     },
     "execution_count": 6,
     "metadata": {},
     "output_type": "execute_result"
    }
   ],
   "source": [
    "attr_filter={\"class\":\"mw-jump-link\",'href':\"#mw-head\"}\n",
    "soup.find_all(\"a\",attr_filter)"
   ]
  },
  {
   "cell_type": "code",
   "execution_count": 7,
   "metadata": {},
   "outputs": [
    {
     "data": {
      "text/plain": [
       "[<div class=\"noprint\" id=\"mw-page-base\"></div>,\n",
       " <div class=\"noprint\" id=\"mw-head-base\"></div>,\n",
       " <div class=\"noprint\" id=\"siteSub\">From Wikipedia, the free encyclopedia</div>,\n",
       " <div class=\"shortdescription nomobile noexcerpt noprint searchaux\" style=\"display:none\">Municipality in North, Brazil</div>,\n",
       " <a class=\"noprint stopMobileRedirectToggle\" href=\"//en.m.wikipedia.org/w/index.php?title=Ariquemes&amp;mobileaction=toggle_view_mobile\">Mobile view</a>,\n",
       " <ul class=\"noprint\" id=\"footer-icons\">\n",
       " <li id=\"footer-copyrightico\"><a href=\"https://wikimediafoundation.org/\"><img alt=\"Wikimedia Foundation\" height=\"31\" loading=\"lazy\" src=\"/static/images/footer/wikimedia-button.png\" srcset=\"/static/images/footer/wikimedia-button-1.5x.png 1.5x, /static/images/footer/wikimedia-button-2x.png 2x\" width=\"88\"/></a></li>\n",
       " <li id=\"footer-poweredbyico\"><a href=\"https://www.mediawiki.org/\"><img alt=\"Powered by MediaWiki\" height=\"31\" loading=\"lazy\" src=\"/static/images/footer/poweredby_mediawiki_88x31.png\" srcset=\"/static/images/footer/poweredby_mediawiki_132x47.png 1.5x, /static/images/footer/poweredby_mediawiki_176x62.png 2x\" width=\"88\"/></a></li>\n",
       " </ul>]"
      ]
     },
     "execution_count": 7,
     "metadata": {},
     "output_type": "execute_result"
    }
   ],
   "source": [
    "attr_filter={'class':'noprint'}\n",
    "soup.find_all(None,attr_filter)"
   ]
  },
  {
   "cell_type": "code",
   "execution_count": null,
   "metadata": {},
   "outputs": [],
   "source": []
  },
  {
   "cell_type": "code",
   "execution_count": 8,
   "metadata": {},
   "outputs": [
    {
     "data": {
      "text/plain": [
       "[<div class=\"fn org\" style=\"display:inline\">Ariquemes</div>]"
      ]
     },
     "execution_count": 8,
     "metadata": {},
     "output_type": "execute_result"
    }
   ],
   "source": [
    "attr_filter={'class':'fn'}\n",
    "soup.find_all(None,attr_filter)"
   ]
  },
  {
   "cell_type": "code",
   "execution_count": null,
   "metadata": {},
   "outputs": [],
   "source": []
  },
  {
   "cell_type": "code",
   "execution_count": 9,
   "metadata": {},
   "outputs": [
    {
     "data": {
      "text/plain": [
       "[<h1 class=\"firstHeading\" id=\"firstHeading\" lang=\"en\">Ariquemes</h1>]"
      ]
     },
     "execution_count": 9,
     "metadata": {},
     "output_type": "execute_result"
    }
   ],
   "source": [
    "attr_filter={'id':'firstHeading'}\n",
    "soup.find_all(None,attr_filter)"
   ]
  },
  {
   "cell_type": "code",
   "execution_count": null,
   "metadata": {},
   "outputs": [],
   "source": []
  }
 ],
 "metadata": {
  "kernelspec": {
   "display_name": "Python 3",
   "language": "python",
   "name": "python3"
  },
  "language_info": {
   "codemirror_mode": {
    "name": "ipython",
    "version": 3
   },
   "file_extension": ".py",
   "mimetype": "text/x-python",
   "name": "python",
   "nbconvert_exporter": "python",
   "pygments_lexer": "ipython3",
   "version": "3.7.6"
  }
 },
 "nbformat": 4,
 "nbformat_minor": 4
}
