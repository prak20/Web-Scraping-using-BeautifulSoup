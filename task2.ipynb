{
 "cells": [
  {
   "cell_type": "markdown",
   "metadata": {},
   "source": [
    "# Access elements and attributes inside HTML pages\n",
    "\n"
   ]
  },
  {
   "cell_type": "code",
   "execution_count": 1,
   "metadata": {},
   "outputs": [],
   "source": [
    "import requests as req\n",
    "from bs4 import BeautifulSoup"
   ]
  },
  {
   "cell_type": "code",
   "execution_count": 2,
   "metadata": {},
   "outputs": [],
   "source": [
    "URL = 'https://en.wikipedia.org/wiki/Ariquemes'\n",
    "r = req.get(URL)\n",
    "soup = BeautifulSoup(r.content)"
   ]
  },
  {
   "cell_type": "code",
   "execution_count": 3,
   "metadata": {},
   "outputs": [
    {
     "data": {
      "text/plain": [
       "'<!DOCTYPE html>\\n<html class=\"client-nojs\" dir=\"ltr\" lang=\"en\">\\n <head>\\n  <meta charset=\"utf-8\"/>\\n  <title>\\n   Ariquemes - Wikipedia\\n  </title>\\n  <script>\\n   document.documentElement.className=\"client-js\";RLCONF={\"wgBreakFrames\":!1,\"wgSeparatorTransformTable\":[\"\",\"\"],\"wgDigitTransformTable\":[\"\",\"\"],\"wgDefaultDateFormat\":\"dmy\",\"wgMonthNames\":[\"\",\"January\",\"February\",\"March\",\"April\",\"May\",\"June\",\"July\",\"August\",\"September\",\"October\",\"November\",\"December\"],\"wgRequestId\":\"2050ed2b-bbc4-4347-b64d-666f30ac39ea\",\"wgCSPNonce\":!1,\"wgCanonicalNamespace\":\"\",\"wgCanonicalSpecialPageName\":!1,\"wgNamespaceNumber\":0,\"wgPageName\":\"Ariquemes\",\"wgTitle\":\"Ariquemes\",\"wgCurRevisionId\":932810636,\"wgRevisionId\":932810636,\"wgArticleId\":353913,\"wgIsArticle\":!0,\"wgIsRedirect\":!1,\"wgAction\":\"view\",\"wgUserName\":null,\"wgUserGroups\":[\"*\"],\"wgCategories\":[\"CS1 maint: archived copy as title\",\"Articles with short description\",\"Short description is different from Wikidata\",\"Articles with Portuguese-language sources (pt)\"'"
      ]
     },
     "execution_count": 3,
     "metadata": {},
     "output_type": "execute_result"
    }
   ],
   "source": [
    "soup.prettify()[:1000]"
   ]
  },
  {
   "cell_type": "code",
   "execution_count": 4,
   "metadata": {},
   "outputs": [
    {
     "name": "stdout",
     "output_type": "stream",
     "text": [
      "<h1 class=\"firstHeading\" id=\"firstHeading\" lang=\"en\">Ariquemes</h1>\n"
     ]
    }
   ],
   "source": [
    "title=soup.h1\n",
    "print(title)"
   ]
  },
  {
   "cell_type": "code",
   "execution_count": 5,
   "metadata": {},
   "outputs": [
    {
     "name": "stdout",
     "output_type": "stream",
     "text": [
      "<img alt=\"Flag of Ariquemes\" class=\"thumbborder\" data-file-height=\"484\" data-file-width=\"684\" decoding=\"async\" height=\"71\" src=\"//upload.wikimedia.org/wikipedia/commons/thumb/c/c0/Ariquemes_bandeira.jpg/100px-Ariquemes_bandeira.jpg\" srcset=\"//upload.wikimedia.org/wikipedia/commons/thumb/c/c0/Ariquemes_bandeira.jpg/150px-Ariquemes_bandeira.jpg 1.5x, //upload.wikimedia.org/wikipedia/commons/thumb/c/c0/Ariquemes_bandeira.jpg/200px-Ariquemes_bandeira.jpg 2x\" width=\"100\"/>\n"
     ]
    }
   ],
   "source": [
    "print(soup.img)"
   ]
  },
  {
   "cell_type": "code",
   "execution_count": 6,
   "metadata": {},
   "outputs": [
    {
     "data": {
      "text/plain": [
       "'h2 div ul li table'"
      ]
     },
     "execution_count": 6,
     "metadata": {},
     "output_type": "execute_result"
    }
   ],
   "source": [
    "\"h2 div ul li table\""
   ]
  },
  {
   "cell_type": "code",
   "execution_count": 7,
   "metadata": {},
   "outputs": [
    {
     "name": "stdout",
     "output_type": "stream",
     "text": [
      "3\n"
     ]
    }
   ],
   "source": [
    "tables=soup.find_all(\"table\")\n",
    "print(len(tables))"
   ]
  },
  {
   "cell_type": "code",
   "execution_count": 8,
   "metadata": {},
   "outputs": [
    {
     "name": "stdout",
     "output_type": "stream",
     "text": [
      "<table class=\"nowraplinks mw-collapsible mw-collapsed navbox-inner\" style=\"border-spacing:0;background:transparent;color:inherit\"><tbody><tr><th class=\"navbox-title\" colspan=\"3\" scope=\"col\"><div class=\"plainlinks hlist navbar mini\"><ul><li class=\"nv-view\"><a href=\"/wiki/Template:Municipalities_of_Rond%C3%B4nia\" title=\"Template:Municipalities of Rondônia\"><abbr style=\";;background:none transparent;border:none;-moz-box-shadow:none;-webkit-box-shadow:none;box-shadow:none; padding:0;\" title=\"View this template\">v</abbr></a></li><li class=\"nv-talk\"><a href=\"/wiki/Template_talk:Municipalities_of_Rond%C3%B4nia\" title=\"Template talk:Municipalities of Rondônia\"><abbr style=\";;background:none transparent;border:none;-moz-box-shadow:none;-webkit-box-shadow:none;box-shadow:none; padding:0;\" title=\"Discuss this template\">t</abbr></a></li><li class=\"nv-edit\"><a class=\"external text\" href=\"https://en.wikipedia.org/w/index.php?title=Template:Municipalities_of_Rond%C3%B4nia&amp;action=edit\"><abbr style=\";;background:none transparent;border:none;-moz-box-shadow:none;-webkit-box-shadow:none;box-shadow:none; padding:0;\" title=\"Edit this template\">e</abbr></a></li></ul></div><div id=\"23px_Municipalities_of_Rondônia\" style=\"font-size:114%;margin:0 4em\"><a class=\"image\" href=\"/wiki/File:Bandeira_de_Rond%C3%B4nia.svg\"><img alt=\"Bandeira de Rondônia.svg\" data-file-height=\"1400\" data-file-width=\"2000\" decoding=\"async\" height=\"16\" src=\"//upload.wikimedia.org/wikipedia/commons/thumb/f/fa/Bandeira_de_Rond%C3%B4nia.svg/23px-Bandeira_de_Rond%C3%B4nia.svg.png\" srcset=\"//upload.wikimedia.org/wikipedia/commons/thumb/f/fa/Bandeira_de_Rond%C3%B4nia.svg/35px-Bandeira_de_Rond%C3%B4nia.svg.png 1.5x, //upload.wikimedia.org/wikipedia/commons/thumb/f/fa/Bandeira_de_Rond%C3%B4nia.svg/46px-Bandeira_de_Rond%C3%B4nia.svg.png 2x\" width=\"23\"/></a> <a href=\"/wiki/List_of_municipalities_in_Rond%C3%B4nia\" title=\"List of municipalities in Rondônia\">Municipalities of Rondônia</a></div></th></tr><tr><td class=\"navbox-abovebelow\" colspan=\"3\"><div id=\"Capital:_Porto_Velho\">Capital: <b><a href=\"/wiki/Porto_Velho\" title=\"Porto Velho\">Porto Velho</a></b></div></td></tr><tr><th class=\"navbox-group\" scope=\"row\" style=\"width:1%\">Alvorada d'Oeste</th><td class=\"navbox-list navbox-odd hlist\" style=\"text-align:left;border-left-width:2px;border-left-style:solid;width:100%;padding:0px\"><div style=\"padding:0em 0.25em\">\n",
      "<ul><li><a href=\"/wiki/Alvorada_d%27Oeste\" title=\"Alvorada d'Oeste\">Alvorada d'Oeste</a></li>\n",
      "<li><a href=\"/wiki/Nova_Brasil%C3%A2ndia_d%27Oeste\" title=\"Nova Brasilândia d'Oeste\">Nova Brasilândia d'Oeste</a></li>\n",
      "<li><a href=\"/wiki/S%C3%A3o_Miguel_do_Guapor%C3%A9\" title=\"São Miguel do Guaporé\">São Miguel do Guaporé</a></li>\n",
      "<li><a href=\"/wiki/Seringueiras\" title=\"Seringueiras\">Seringueiras</a></li></ul>\n",
      "</div></td><td class=\"noviewer navbox-image\" rowspan=\"8\" style=\"width:1px;padding:0px 0px 0px 2px\"><div><a class=\"image\" href=\"/wiki/File:Brazil_State_Rondonia.svg\"><img alt=\"Brazil State Rondonia.svg\" data-file-height=\"687\" data-file-width=\"702\" decoding=\"async\" height=\"127\" src=\"//upload.wikimedia.org/wikipedia/commons/thumb/4/43/Brazil_State_Rondonia.svg/130px-Brazil_State_Rondonia.svg.png\" srcset=\"//upload.wikimedia.org/wikipedia/commons/thumb/4/43/Brazil_State_Rondonia.svg/195px-Brazil_State_Rondonia.svg.png 1.5x, //upload.wikimedia.org/wikipedia/commons/thumb/4/43/Brazil_State_Rondonia.svg/260px-Brazil_State_Rondonia.svg.png 2x\" width=\"130\"/></a></div></td></tr><tr><th class=\"navbox-group\" scope=\"row\" style=\"width:1%\">Ariquemes</th><td class=\"navbox-list navbox-even hlist\" style=\"text-align:left;border-left-width:2px;border-left-style:solid;width:100%;padding:0px\"><div style=\"padding:0em 0.25em\">\n",
      "<ul><li><a href=\"/wiki/Alto_Para%C3%ADso\" title=\"Alto Paraíso\">Alto Paraíso</a></li>\n",
      "<li><a class=\"mw-selflink selflink\">Ariquemes</a></li>\n",
      "<li><a href=\"/wiki/Cacaul%C3%A2ndia\" title=\"Cacaulândia\">Cacaulândia</a></li>\n",
      "<li><a href=\"/wiki/Machadinho_d%27Oeste\" title=\"Machadinho d'Oeste\">Machadinho d'Oeste</a></li>\n",
      "<li><a href=\"/wiki/Monte_Negro,_Rond%C3%B4nia\" title=\"Monte Negro, Rondônia\">Monte Negro</a></li>\n",
      "<li><a href=\"/wiki/Rio_Crespo\" title=\"Rio Crespo\">Rio Crespo</a></li>\n",
      "<li><a href=\"/wiki/Vale_do_Anari\" title=\"Vale do Anari\">Vale do Anari</a></li></ul>\n",
      "</div></td></tr><tr><th class=\"navbox-group\" scope=\"row\" style=\"width:1%\">Cacoal</th><td class=\"navbox-list navbox-odd hlist\" style=\"text-align:left;border-left-width:2px;border-left-style:solid;width:100%;padding:0px\"><div style=\"padding:0em 0.25em\">\n",
      "<ul><li><a href=\"/wiki/Alta_Floresta_d%27Oeste\" title=\"Alta Floresta d'Oeste\">Alta Floresta d'Oeste</a></li>\n",
      "<li><a href=\"/wiki/Alto_Alegre_dos_Parecis\" title=\"Alto Alegre dos Parecis\">Alto Alegre dos Parecis</a></li>\n",
      "<li><a href=\"/wiki/Cacoal\" title=\"Cacoal\">Cacoal</a></li>\n",
      "<li><a href=\"/wiki/Castanheiras\" title=\"Castanheiras\">Castanheiras</a></li>\n",
      "<li><a href=\"/wiki/Espig%C3%A3o_d%27Oeste\" title=\"Espigão d'Oeste\">Espigão d'Oeste</a></li>\n",
      "<li><a href=\"/wiki/Ministro_Andreazza\" title=\"Ministro Andreazza\">Ministro Andreazza</a></li>\n",
      "<li><a href=\"/wiki/Novo_Horizonte_do_Oeste\" title=\"Novo Horizonte do Oeste\">Novo Horizonte do Oeste</a></li>\n",
      "<li><a href=\"/wiki/Rolim_de_Moura\" title=\"Rolim de Moura\">Rolim de Moura</a></li>\n",
      "<li><a href=\"/wiki/Santa_Luzia_d%27Oeste\" title=\"Santa Luzia d'Oeste\">Santa Luzia d'Oeste</a></li></ul>\n",
      "</div></td></tr><tr><th class=\"navbox-group\" scope=\"row\" style=\"width:1%\">Colorado do Oeste</th><td class=\"navbox-list navbox-even hlist\" style=\"text-align:left;border-left-width:2px;border-left-style:solid;width:100%;padding:0px\"><div style=\"padding:0em 0.25em\">\n",
      "<ul><li><a href=\"/wiki/Cabixi\" title=\"Cabixi\">Cabixi</a></li>\n",
      "<li><a href=\"/wiki/Cerejeiras\" title=\"Cerejeiras\">Cerejeiras</a></li>\n",
      "<li><a href=\"/wiki/Colorado_do_Oeste\" title=\"Colorado do Oeste\">Colorado do Oeste</a></li>\n",
      "<li><a href=\"/wiki/Corumbiara\" title=\"Corumbiara\">Corumbiara</a></li>\n",
      "<li><a href=\"/wiki/Pimenteiras_do_Oeste\" title=\"Pimenteiras do Oeste\">Pimenteiras do Oeste</a></li></ul>\n",
      "</div></td></tr><tr><th class=\"navbox-group\" scope=\"row\" style=\"width:1%\">Guajara-Mirim</th><td class=\"navbox-list navbox-odd hlist\" style=\"text-align:left;border-left-width:2px;border-left-style:solid;width:100%;padding:0px\"><div style=\"padding:0em 0.25em\">\n",
      "<ul><li><a href=\"/wiki/Costa_Marques\" title=\"Costa Marques\">Costa Marques</a></li>\n",
      "<li><a href=\"/wiki/Guajar%C3%A1-Mirim\" title=\"Guajará-Mirim\">Guajará-Mirim</a></li>\n",
      "<li><a href=\"/wiki/S%C3%A3o_Francisco_do_Guapor%C3%A9\" title=\"São Francisco do Guaporé\">São Francisco do Guaporé</a></li></ul>\n",
      "</div></td></tr><tr><th class=\"navbox-group\" scope=\"row\" style=\"width:1%\">Ji-Parana</th><td class=\"navbox-list navbox-even hlist\" style=\"text-align:left;border-left-width:2px;border-left-style:solid;width:100%;padding:0px\"><div style=\"padding:0em 0.25em\">\n",
      "<ul><li><a href=\"/wiki/Governador_Jorge_Teixeira\" title=\"Governador Jorge Teixeira\">Governador Jorge Teixeira</a></li>\n",
      "<li><a href=\"/wiki/Jaru,_Rond%C3%B4nia\" title=\"Jaru, Rondônia\">Jaru</a></li>\n",
      "<li><a href=\"/wiki/Ji-Paran%C3%A1\" title=\"Ji-Paraná\">Ji-Paraná</a></li>\n",
      "<li><a href=\"/wiki/Mirante_da_Serra\" title=\"Mirante da Serra\">Mirante da Serra</a></li>\n",
      "<li><a href=\"/wiki/Nova_Uni%C3%A3o,_Rond%C3%B4nia\" title=\"Nova União, Rondônia\">Nova União</a></li>\n",
      "<li><a href=\"/wiki/Ouro_Preto_do_Oeste\" title=\"Ouro Preto do Oeste\">Ouro Preto do Oeste</a></li>\n",
      "<li><a href=\"/wiki/Presidente_M%C3%A9dici,_Rond%C3%B4nia\" title=\"Presidente Médici, Rondônia\">Presidente Médici</a></li>\n",
      "<li><a href=\"/wiki/Teixeir%C3%B3polis\" title=\"Teixeirópolis\">Teixeirópolis</a></li>\n",
      "<li><a href=\"/wiki/Theobroma,_Rond%C3%B4nia\" title=\"Theobroma, Rondônia\">Theobroma</a></li>\n",
      "<li><a href=\"/wiki/Urup%C3%A1\" title=\"Urupá\">Urupá</a></li>\n",
      "<li><a href=\"/wiki/Vale_do_Para%C3%ADso,_Rond%C3%B4nia\" title=\"Vale do Paraíso, Rondônia\">Vale do Paraíso</a></li></ul>\n",
      "</div></td></tr><tr><th class=\"navbox-group\" scope=\"row\" style=\"width:1%\">Porto Velho</th><td class=\"navbox-list navbox-odd hlist\" style=\"text-align:left;border-left-width:2px;border-left-style:solid;width:100%;padding:0px\"><div style=\"padding:0em 0.25em\">\n",
      "<ul><li><a href=\"/wiki/Buritis,_Rond%C3%B4nia\" title=\"Buritis, Rondônia\">Buritis</a></li>\n",
      "<li><a href=\"/wiki/Campo_Novo_de_Rond%C3%B4nia\" title=\"Campo Novo de Rondônia\">Campo Novo de Rondônia</a></li>\n",
      "<li><a href=\"/wiki/Candeias_do_Jamari\" title=\"Candeias do Jamari\">Candeias do Jamari</a></li>\n",
      "<li><a href=\"/wiki/Cujubim\" title=\"Cujubim\">Cujubim</a></li>\n",
      "<li><a href=\"/wiki/Itapu%C3%A3_do_Oeste\" title=\"Itapuã do Oeste\">Itapuã do Oeste</a></li>\n",
      "<li><a href=\"/wiki/Nova_Mamor%C3%A9\" title=\"Nova Mamoré\">Nova Mamoré</a></li>\n",
      "<li><a href=\"/wiki/Porto_Velho\" title=\"Porto Velho\">Porto Velho</a></li></ul>\n",
      "</div></td></tr><tr><th class=\"navbox-group\" scope=\"row\" style=\"width:1%\">Vilhena</th><td class=\"navbox-list navbox-even hlist\" style=\"text-align:left;border-left-width:2px;border-left-style:solid;width:100%;padding:0px\"><div style=\"padding:0em 0.25em\">\n",
      "<ul><li><a href=\"/wiki/Chupinguaia\" title=\"Chupinguaia\">Chupinguaia</a></li>\n",
      "<li><a href=\"/wiki/Parecis,_Rond%C3%B4nia\" title=\"Parecis, Rondônia\">Parecis</a></li>\n",
      "<li><a href=\"/wiki/Pimenta_Bueno\" title=\"Pimenta Bueno\">Pimenta Bueno</a></li>\n",
      "<li><a href=\"/wiki/Primavera_de_Rond%C3%B4nia\" title=\"Primavera de Rondônia\">Primavera de Rondônia</a></li>\n",
      "<li><a href=\"/wiki/S%C3%A3o_Felipe_d%27Oeste\" title=\"São Felipe d'Oeste\">São Felipe d'Oeste</a></li>\n",
      "<li><a href=\"/wiki/Vilhena\" title=\"Vilhena\">Vilhena</a></li></ul>\n",
      "</div></td></tr></tbody></table>\n"
     ]
    }
   ],
   "source": [
    "print(tables[1])"
   ]
  },
  {
   "cell_type": "code",
   "execution_count": 9,
   "metadata": {},
   "outputs": [
    {
     "data": {
      "text/plain": [
       "'border-spacing:0;background:transparent;color:inherit'"
      ]
     },
     "execution_count": 9,
     "metadata": {},
     "output_type": "execute_result"
    }
   ],
   "source": [
    "tables[1][\"style\"]"
   ]
  },
  {
   "cell_type": "code",
   "execution_count": 10,
   "metadata": {},
   "outputs": [
    {
     "name": "stdout",
     "output_type": "stream",
     "text": [
      "139\n"
     ]
    }
   ],
   "source": [
    "lists=soup.find_all(\"li\")\n",
    "#print(lists)\n",
    "print(len(lists))"
   ]
  },
  {
   "cell_type": "code",
   "execution_count": 11,
   "metadata": {},
   "outputs": [],
   "source": [
    "childs=list(lists[3].children)"
   ]
  },
  {
   "cell_type": "code",
   "execution_count": 12,
   "metadata": {},
   "outputs": [
    {
     "name": "stdout",
     "output_type": "stream",
     "text": [
      "3\n"
     ]
    }
   ],
   "source": [
    "print(len(childs))"
   ]
  },
  {
   "cell_type": "code",
   "execution_count": 13,
   "metadata": {},
   "outputs": [
    {
     "name": "stdout",
     "output_type": "stream",
     "text": [
      "[<span class=\"official-website\"><span class=\"url\"><a class=\"external text\" href=\"http://www.ariquemes.ro.gov.br\" rel=\"nofollow\">Official website</a></span></span>, ' ', <span class=\"languageicon\">(in Portuguese)</span>]\n"
     ]
    }
   ],
   "source": [
    "print(childs)"
   ]
  },
  {
   "cell_type": "code",
   "execution_count": null,
   "metadata": {},
   "outputs": [],
   "source": []
  }
 ],
 "metadata": {
  "kernelspec": {
   "display_name": "Python 3",
   "language": "python",
   "name": "python3"
  },
  "language_info": {
   "codemirror_mode": {
    "name": "ipython",
    "version": 3
   },
   "file_extension": ".py",
   "mimetype": "text/x-python",
   "name": "python",
   "nbconvert_exporter": "python",
   "pygments_lexer": "ipython3",
   "version": "3.7.6"
  }
 },
 "nbformat": 4,
 "nbformat_minor": 4
}
